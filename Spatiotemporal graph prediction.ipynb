{
 "cells": [
  {
   "cell_type": "markdown",
   "id": "77af4139-95b4-4c80-950a-73a32c6a3cb5",
   "metadata": {},
   "source": [
    "## Torch Geometric Temporal"
   ]
  },
  {
   "cell_type": "code",
   "execution_count": 33,
   "id": "ed6c8bfe-ddaa-4221-9a9b-11753099d96b",
   "metadata": {},
   "outputs": [],
   "source": [
    "import torch\n",
    "import torch.nn as nn\n",
    "from torch_geometric_temporal.nn.recurrent import GConvGRU\n",
    "import numpy as np\n",
    "from torch_geometric_temporal.dataset import METRLADatasetLoader\n",
    "from torch_geometric_temporal.signal import StaticGraphTemporalSignal\n",
    "from torch_geometric_temporal.signal import temporal_signal_split\n",
    "import torch.nn.functional as F\n",
    "import torch.optim as optim"
   ]
  },
  {
   "cell_type": "code",
   "execution_count": 34,
   "id": "39667996-fb3e-43ab-b57a-a2fc32e5d36c",
   "metadata": {},
   "outputs": [
    {
     "name": "stdout",
     "output_type": "stream",
     "text": [
      "Dataset type:   <torch_geometric_temporal.signal.static_graph_temporal_signal.StaticGraphTemporalSignal object at 0x0000021ED29AC790>\n"
     ]
    }
   ],
   "source": [
    "\n",
    "loader = METRLADatasetLoader()\n",
    "dataset = loader.get_dataset(num_timesteps_in=12, num_timesteps_out=12)\n",
    "\n",
    "print(\"Dataset type:  \", dataset)"
   ]
  },
  {
   "cell_type": "code",
   "execution_count": 39,
   "id": "e6b26671-aec1-4cc7-830e-98cc3d4bcf6a",
   "metadata": {},
   "outputs": [],
   "source": [
    "train_dataset, test_dataset = temporal_signal_split(dataset)"
   ]
  },
  {
   "cell_type": "markdown",
   "id": "8ec7d0c5-9c0d-4bbe-ad6b-03ad25b7d2ad",
   "metadata": {},
   "source": [
    "## Torch Spatiotemporal"
   ]
  },
  {
   "cell_type": "code",
   "execution_count": 18,
   "id": "b5c581ba-fd52-42b8-9a8a-e80fa69de0e9",
   "metadata": {},
   "outputs": [],
   "source": [
    "import tsl"
   ]
  },
  {
   "cell_type": "code",
   "execution_count": 19,
   "id": "2223772a-d48e-4559-a5b9-6e84aa0fe74b",
   "metadata": {},
   "outputs": [],
   "source": [
    "from tsl.datasets import MetrLA"
   ]
  },
  {
   "cell_type": "code",
   "execution_count": 20,
   "id": "deca78cb-5408-4d68-b72d-0df4232e02a4",
   "metadata": {},
   "outputs": [],
   "source": [
    "dataset = MetrLA(root='./data')"
   ]
  },
  {
   "cell_type": "code",
   "execution_count": 52,
   "id": "9c57cb06-ced7-456d-9b52-3879214ec005",
   "metadata": {},
   "outputs": [
    {
     "data": {
      "text/plain": [
       "<torch_geometric_temporal.signal.static_graph_temporal_signal.StaticGraphTemporalSignal at 0x21ed29ac790>"
      ]
     },
     "execution_count": 52,
     "metadata": {},
     "output_type": "execute_result"
    }
   ],
   "source": [
    "dataset"
   ]
  },
  {
   "cell_type": "code",
   "execution_count": null,
   "id": "405379d1-c9e9-4ee6-a371-15f273651ccf",
   "metadata": {},
   "outputs": [],
   "source": []
  }
 ],
 "metadata": {
  "kernelspec": {
   "display_name": "Python 3 (ipykernel)",
   "language": "python",
   "name": "python3"
  },
  "language_info": {
   "codemirror_mode": {
    "name": "ipython",
    "version": 3
   },
   "file_extension": ".py",
   "mimetype": "text/x-python",
   "name": "python",
   "nbconvert_exporter": "python",
   "pygments_lexer": "ipython3",
   "version": "3.9.16"
  }
 },
 "nbformat": 4,
 "nbformat_minor": 5
}
